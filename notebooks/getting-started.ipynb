{
 "cells": [
  {
   "cell_type": "markdown",
   "metadata": {},
   "source": [
    "# Getting Started\n",
    "\n",
    "This notebook demonstrates the OpenSCM Two Layer Model repository's basic functionality."
   ]
  },
  {
   "cell_type": "markdown",
   "metadata": {},
   "source": [
    "We start with imports, their need will become clearer throughout the notebook."
   ]
  },
  {
   "cell_type": "code",
   "execution_count": 1,
   "metadata": {},
   "outputs": [
    {
     "name": "stderr",
     "output_type": "stream",
     "text": [
      "/Users/znicholls/Documents/AGCEC/MCastle/openscm-twolayermodel/src/openscm_twolayermodel/base.py:10: TqdmExperimentalWarning: Using `tqdm.autonotebook.tqdm` in notebook mode. Use `tqdm.tqdm` instead to force console mode (e.g. in jupyter console)\n",
      "  import tqdm.autonotebook as tqdman\n"
     ]
    }
   ],
   "source": [
    "import inspect\n",
    "\n",
    "import numpy as np\n",
    "from openscm_units import unit_registry\n",
    "from scmdata import ScmRun\n",
    "\n",
    "import openscm_twolayermodel\n",
    "from openscm_twolayermodel import ImpulseResponseModel, TwoLayerModel\n",
    "from openscm_twolayermodel.base import Model"
   ]
  },
  {
   "cell_type": "markdown",
   "metadata": {},
   "source": [
    "As with most Python packages, the version of ``openscm_twolayermodel`` being used can always be checked as shown below. This is very helpful for debugging."
   ]
  },
  {
   "cell_type": "code",
   "execution_count": 2,
   "metadata": {},
   "outputs": [
    {
     "data": {
      "text/plain": [
       "'0.1.0+9.g16bd0d8.dirty'"
      ]
     },
     "execution_count": 2,
     "metadata": {},
     "output_type": "execute_result"
    }
   ],
   "source": [
    "# NBVAL_IGNORE_OUTPUT\n",
    "openscm_twolayermodel.__version__"
   ]
  },
  {
   "cell_type": "markdown",
   "metadata": {},
   "source": [
    "OpenSCM Two Layer Model has two key classes: `ImpulseResponseModel` and `TwoLayerModel`. These are implementations of the two major variants of the two-layer model found in the literature. We can see that they both have a common base class using the `inspect` package."
   ]
  },
  {
   "cell_type": "code",
   "execution_count": 3,
   "metadata": {},
   "outputs": [
    {
     "data": {
      "text/plain": [
       "(openscm_twolayermodel.impulse_response_model.ImpulseResponseModel,\n",
       " openscm_twolayermodel.base.TwoLayerVariant,\n",
       " openscm_twolayermodel.base.Model,\n",
       " abc.ABC,\n",
       " object)"
      ]
     },
     "execution_count": 3,
     "metadata": {},
     "output_type": "execute_result"
    }
   ],
   "source": [
    "inspect.getmro(ImpulseResponseModel)"
   ]
  },
  {
   "cell_type": "code",
   "execution_count": 4,
   "metadata": {},
   "outputs": [
    {
     "data": {
      "text/plain": [
       "(openscm_twolayermodel.two_layer_model.TwoLayerModel,\n",
       " openscm_twolayermodel.base.TwoLayerVariant,\n",
       " openscm_twolayermodel.base.Model,\n",
       " abc.ABC,\n",
       " object)"
      ]
     },
     "execution_count": 4,
     "metadata": {},
     "output_type": "execute_result"
    }
   ],
   "source": [
    "inspect.getmro(TwoLayerModel)"
   ]
  },
  {
   "cell_type": "markdown",
   "metadata": {},
   "source": [
    "These classes can both be used in the same way. We demonstrate the most basic usage here, more comprehensive usage is demonstrated in other notebooks."
   ]
  },
  {
   "cell_type": "markdown",
   "metadata": {},
   "source": [
    "The first thing we need is our effective radiative forcing driver. This should be an [`ScmRun`](https://scmdata.readthedocs.io/en/latest/data.html#the-scmrun-class) instance."
   ]
  },
  {
   "cell_type": "code",
   "execution_count": 5,
   "metadata": {},
   "outputs": [
    {
     "data": {
      "text/plain": [
       "<scmdata.ScmRun (timeseries: 1, timepoints: 200)>\n",
       "Time:\n",
       "\tStart: 1850-01-01T00:00:00\n",
       "\tEnd: 2049-01-01T00:00:00\n",
       "Meta:\n",
       "\t    unit      model scenario region                     variable\n",
       "\t0  W/m^2  idealised  1pctCO2  World  Effective Radiative Forcing"
      ]
     },
     "execution_count": 5,
     "metadata": {},
     "output_type": "execute_result"
    }
   ],
   "source": [
    "run_length = 200\n",
    "\n",
    "driver = ScmRun(\n",
    "    data=np.arange(run_length) * 4 / 70,\n",
    "    index=1850 + np.arange(run_length),\n",
    "    columns={\n",
    "        \"unit\": \"W/m^2\",\n",
    "        \"model\": \"idealised\",\n",
    "        \"scenario\": \"1pctCO2\",\n",
    "        \"region\": \"World\",\n",
    "        \"variable\": \"Effective Radiative Forcing\",\n",
    "    }\n",
    ")\n",
    "driver"
   ]
  },
  {
   "cell_type": "code",
   "execution_count": 6,
   "metadata": {},
   "outputs": [
    {
     "data": {
      "text/plain": [
       "<matplotlib.axes._subplots.AxesSubplot at 0x12cd76650>"
      ]
     },
     "execution_count": 6,
     "metadata": {},
     "output_type": "execute_result"
    },
    {
     "data": {
      "image/png": "[encoded data removed]",
      "text/plain": [
       "<Figure size 432x288 with 1 Axes>"
      ]
     },
     "metadata": {
      "needs_background": "light"
     },
     "output_type": "display_data"
    }
   ],
   "source": [
    "# NBVAL_IGNORE_OUTPUT\n",
    "driver.lineplot()"
   ]
  },
  {
   "cell_type": "markdown",
   "metadata": {},
   "source": [
    "Then we can initialise instances of our models and run them."
   ]
  },
  {
   "cell_type": "code",
   "execution_count": 7,
   "metadata": {},
   "outputs": [
    {
     "data": {
      "application/vnd.jupyter.widget-view+json": {
       "model_id": "",
       "version_major": 2,
       "version_minor": 0
      },
      "text/plain": [
       "HBox(children=(FloatProgress(value=1.0, bar_style='info', description='scenarios', max=1.0, style=ProgressStyl…"
      ]
     },
     "metadata": {},
     "output_type": "display_data"
    },
    {
     "data": {
      "application/vnd.jupyter.widget-view+json": {
       "model_id": "",
       "version_major": 2,
       "version_minor": 0
      },
      "text/plain": [
       "HBox(children=(FloatProgress(value=1.0, bar_style='info', description='scenarios', max=1.0, style=ProgressStyl…"
      ]
     },
     "metadata": {},
     "output_type": "display_data"
    },
    {
     "data": {
      "text/html": [
       "<div>\n",
       "<style scoped>\n",
       "    .dataframe tbody tr th:only-of-type {\n",
       "        vertical-align: middle;\n",
       "    }\n",
       "\n",
       "    .dataframe tbody tr th {\n",
       "        vertical-align: top;\n",
       "    }\n",
       "\n",
       "    .dataframe thead th {\n",
       "        text-align: right;\n",
       "    }\n",
       "</style>\n",
       "<table border=\"1\" class=\"dataframe\">\n",
       "  <thead>\n",
       "    <tr style=\"text-align: right;\">\n",
       "      <th></th>\n",
       "      <th></th>\n",
       "      <th></th>\n",
       "      <th></th>\n",
       "      <th></th>\n",
       "      <th></th>\n",
       "      <th></th>\n",
       "      <th></th>\n",
       "      <th></th>\n",
       "      <th></th>\n",
       "      <th></th>\n",
       "      <th></th>\n",
       "      <th></th>\n",
       "      <th></th>\n",
       "      <th></th>\n",
       "      <th></th>\n",
       "      <th>time</th>\n",
       "      <th>1850-01-01</th>\n",
       "      <th>1851-01-01</th>\n",
       "      <th>1852-01-01</th>\n",
       "      <th>1853-01-01</th>\n",
       "      <th>1854-01-01</th>\n",
       "      <th>1855-01-01</th>\n",
       "      <th>1856-01-01</th>\n",
       "      <th>1857-01-01</th>\n",
       "      <th>1858-01-01</th>\n",
       "      <th>1859-01-01</th>\n",
       "      <th>...</th>\n",
       "      <th>2040-01-01</th>\n",
       "      <th>2041-01-01</th>\n",
       "      <th>2042-01-01</th>\n",
       "      <th>2043-01-01</th>\n",
       "      <th>2044-01-01</th>\n",
       "      <th>2045-01-01</th>\n",
       "      <th>2046-01-01</th>\n",
       "      <th>2047-01-01</th>\n",
       "      <th>2048-01-01</th>\n",
       "      <th>2049-01-01</th>\n",
       "    </tr>\n",
       "    <tr>\n",
       "      <th>model</th>\n",
       "      <th>scenario</th>\n",
       "      <th>region</th>\n",
       "      <th>variable</th>\n",
       "      <th>unit</th>\n",
       "      <th>du (meter)</th>\n",
       "      <th>a (watt / delta_degree_Celsius ** 2 / meter ** 2)</th>\n",
       "      <th>lambda0 (watt / delta_degree_Celsius / meter ** 2)</th>\n",
       "      <th>dl (meter)</th>\n",
       "      <th>climate_model</th>\n",
       "      <th>efficacy (dimensionless)</th>\n",
       "      <th>eta (watt / delta_degree_Celsius / meter ** 2)</th>\n",
       "      <th>run_idx</th>\n",
       "      <th>d1 (a)</th>\n",
       "      <th>q1 (delta_degree_Celsius * meter ** 2 / watt)</th>\n",
       "      <th>q2 (delta_degree_Celsius * meter ** 2 / watt)</th>\n",
       "      <th>d2 (a)</th>\n",
       "      <th></th>\n",
       "      <th></th>\n",
       "      <th></th>\n",
       "      <th></th>\n",
       "      <th></th>\n",
       "      <th></th>\n",
       "      <th></th>\n",
       "      <th></th>\n",
       "      <th></th>\n",
       "      <th></th>\n",
       "      <th></th>\n",
       "      <th></th>\n",
       "      <th></th>\n",
       "      <th></th>\n",
       "      <th></th>\n",
       "      <th></th>\n",
       "      <th></th>\n",
       "      <th></th>\n",
       "      <th></th>\n",
       "      <th></th>\n",
       "      <th></th>\n",
       "    </tr>\n",
       "  </thead>\n",
       "  <tbody>\n",
       "    <tr>\n",
       "      <th rowspan=\"5\" valign=\"top\">idealised</th>\n",
       "      <th rowspan=\"5\" valign=\"top\">1pctCO2</th>\n",
       "      <th rowspan=\"5\" valign=\"top\">World</th>\n",
       "      <th>Effective Radiative Forcing</th>\n",
       "      <th>W/m^2</th>\n",
       "      <th>50.0</th>\n",
       "      <th>0.0</th>\n",
       "      <th>1.333333</th>\n",
       "      <th>1200.0</th>\n",
       "      <th>two_layer</th>\n",
       "      <th>1.0</th>\n",
       "      <th>0.8</th>\n",
       "      <th>0</th>\n",
       "      <th>NaN</th>\n",
       "      <th>NaN</th>\n",
       "      <th>NaN</th>\n",
       "      <th>NaN</th>\n",
       "      <td>0.0</td>\n",
       "      <td>0.057143</td>\n",
       "      <td>0.114286</td>\n",
       "      <td>0.171429</td>\n",
       "      <td>0.228571</td>\n",
       "      <td>0.285714</td>\n",
       "      <td>0.342857</td>\n",
       "      <td>0.400000</td>\n",
       "      <td>0.457143</td>\n",
       "      <td>0.514286</td>\n",
       "      <td>...</td>\n",
       "      <td>10.857143</td>\n",
       "      <td>10.914286</td>\n",
       "      <td>10.971429</td>\n",
       "      <td>11.028571</td>\n",
       "      <td>11.085714</td>\n",
       "      <td>11.142857</td>\n",
       "      <td>11.200000</td>\n",
       "      <td>11.257143</td>\n",
       "      <td>11.314286</td>\n",
       "      <td>11.371429</td>\n",
       "    </tr>\n",
       "    <tr>\n",
       "      <th>Surface Temperature|Upper</th>\n",
       "      <th>delta_degC</th>\n",
       "      <th>50.0</th>\n",
       "      <th>0.0</th>\n",
       "      <th>1.333333</th>\n",
       "      <th>1200.0</th>\n",
       "      <th>two_layer</th>\n",
       "      <th>1.0</th>\n",
       "      <th>0.8</th>\n",
       "      <th>0</th>\n",
       "      <th>NaN</th>\n",
       "      <th>NaN</th>\n",
       "      <th>NaN</th>\n",
       "      <th>NaN</th>\n",
       "      <td>0.0</td>\n",
       "      <td>0.000000</td>\n",
       "      <td>0.008626</td>\n",
       "      <td>0.023100</td>\n",
       "      <td>0.041545</td>\n",
       "      <td>0.062689</td>\n",
       "      <td>0.085676</td>\n",
       "      <td>0.109924</td>\n",
       "      <td>0.135040</td>\n",
       "      <td>0.160761</td>\n",
       "      <td>...</td>\n",
       "      <td>5.710809</td>\n",
       "      <td>5.744627</td>\n",
       "      <td>5.778474</td>\n",
       "      <td>5.812348</td>\n",
       "      <td>5.846251</td>\n",
       "      <td>5.880182</td>\n",
       "      <td>5.914140</td>\n",
       "      <td>5.948127</td>\n",
       "      <td>5.982141</td>\n",
       "      <td>6.016183</td>\n",
       "    </tr>\n",
       "    <tr>\n",
       "      <th>Surface Temperature|Lower</th>\n",
       "      <th>delta_degC</th>\n",
       "      <th>50.0</th>\n",
       "      <th>0.0</th>\n",
       "      <th>1.333333</th>\n",
       "      <th>1200.0</th>\n",
       "      <th>two_layer</th>\n",
       "      <th>1.0</th>\n",
       "      <th>0.8</th>\n",
       "      <th>0</th>\n",
       "      <th>NaN</th>\n",
       "      <th>NaN</th>\n",
       "      <th>NaN</th>\n",
       "      <th>NaN</th>\n",
       "      <td>0.0</td>\n",
       "      <td>0.000000</td>\n",
       "      <td>0.000000</td>\n",
       "      <td>0.000043</td>\n",
       "      <td>0.000159</td>\n",
       "      <td>0.000368</td>\n",
       "      <td>0.000681</td>\n",
       "      <td>0.001109</td>\n",
       "      <td>0.001656</td>\n",
       "      <td>0.002328</td>\n",
       "      <td>...</td>\n",
       "      <td>1.937427</td>\n",
       "      <td>1.956414</td>\n",
       "      <td>1.975476</td>\n",
       "      <td>1.994612</td>\n",
       "      <td>2.013823</td>\n",
       "      <td>2.033107</td>\n",
       "      <td>2.052465</td>\n",
       "      <td>2.071897</td>\n",
       "      <td>2.091402</td>\n",
       "      <td>2.110980</td>\n",
       "    </tr>\n",
       "    <tr>\n",
       "      <th>Heat Uptake</th>\n",
       "      <th>W/m^2</th>\n",
       "      <th>50.0</th>\n",
       "      <th>0.0</th>\n",
       "      <th>1.333333</th>\n",
       "      <th>1200.0</th>\n",
       "      <th>two_layer</th>\n",
       "      <th>1.0</th>\n",
       "      <th>0.8</th>\n",
       "      <th>0</th>\n",
       "      <th>NaN</th>\n",
       "      <th>NaN</th>\n",
       "      <th>NaN</th>\n",
       "      <th>NaN</th>\n",
       "      <td>0.0</td>\n",
       "      <td>0.000000</td>\n",
       "      <td>0.057143</td>\n",
       "      <td>0.102784</td>\n",
       "      <td>0.140628</td>\n",
       "      <td>0.173178</td>\n",
       "      <td>0.202129</td>\n",
       "      <td>0.228623</td>\n",
       "      <td>0.253435</td>\n",
       "      <td>0.277089</td>\n",
       "      <td>...</td>\n",
       "      <td>3.230641</td>\n",
       "      <td>3.242731</td>\n",
       "      <td>3.254783</td>\n",
       "      <td>3.266797</td>\n",
       "      <td>3.278774</td>\n",
       "      <td>3.290713</td>\n",
       "      <td>3.302615</td>\n",
       "      <td>3.314480</td>\n",
       "      <td>3.326307</td>\n",
       "      <td>3.338098</td>\n",
       "    </tr>\n",
       "    <tr>\n",
       "      <th>Effective Radiative Forcing</th>\n",
       "      <th>W/m^2</th>\n",
       "      <th>NaN</th>\n",
       "      <th>NaN</th>\n",
       "      <th>NaN</th>\n",
       "      <th>NaN</th>\n",
       "      <th>two_timescale_impulse_response</th>\n",
       "      <th>1.0</th>\n",
       "      <th>NaN</th>\n",
       "      <th>0</th>\n",
       "      <th>10.0</th>\n",
       "      <th>0.3</th>\n",
       "      <th>0.4</th>\n",
       "      <th>400.0</th>\n",
       "      <td>0.0</td>\n",
       "      <td>0.057143</td>\n",
       "      <td>0.114286</td>\n",
       "      <td>0.171429</td>\n",
       "      <td>0.228571</td>\n",
       "      <td>0.285714</td>\n",
       "      <td>0.342857</td>\n",
       "      <td>0.400000</td>\n",
       "      <td>0.457143</td>\n",
       "      <td>0.514286</td>\n",
       "      <td>...</td>\n",
       "      <td>10.857143</td>\n",
       "      <td>10.914286</td>\n",
       "      <td>10.971429</td>\n",
       "      <td>11.028571</td>\n",
       "      <td>11.085714</td>\n",
       "      <td>11.142857</td>\n",
       "      <td>11.200000</td>\n",
       "      <td>11.257143</td>\n",
       "      <td>11.314286</td>\n",
       "      <td>11.371429</td>\n",
       "    </tr>\n",
       "  </tbody>\n",
       "</table>\n",
       "<p>5 rows × 200 columns</p>\n",
       "</div>"
      ],
      "text/plain": [
       "time                                                                                                                                                                                                                                                                                                                                                                                                                  1850-01-01  \\\n",
       "model     scenario region variable                    unit       du (meter) a (watt / delta_degree_Celsius ** 2 / meter ** 2) lambda0 (watt / delta_degree_Celsius / meter ** 2) dl (meter) climate_model                  efficacy (dimensionless) eta (watt / delta_degree_Celsius / meter ** 2) run_idx d1 (a) q1 (delta_degree_Celsius * meter ** 2 / watt) q2 (delta_degree_Celsius * meter ** 2 / watt) d2 (a)               \n",
       "idealised 1pctCO2  World  Effective Radiative Forcing W/m^2      50.0       0.0                                               1.333333                                           1200.0     two_layer                      1.0                      0.8                                            0       NaN    NaN                                           NaN                                           NaN            0.0   \n",
       "                          Surface Temperature|Upper   delta_degC 50.0       0.0                                               1.333333                                           1200.0     two_layer                      1.0                      0.8                                            0       NaN    NaN                                           NaN                                           NaN            0.0   \n",
       "                          Surface Temperature|Lower   delta_degC 50.0       0.0                                               1.333333                                           1200.0     two_layer                      1.0                      0.8                                            0       NaN    NaN                                           NaN                                           NaN            0.0   \n",
       "                          Heat Uptake                 W/m^2      50.0       0.0                                               1.333333                                           1200.0     two_layer                      1.0                      0.8                                            0       NaN    NaN                                           NaN                                           NaN            0.0   \n",
       "                          Effective Radiative Forcing W/m^2      NaN        NaN                                               NaN                                                NaN        two_timescale_impulse_response 1.0                      NaN                                            0       10.0   0.3                                           0.4                                           400.0          0.0   \n",
       "\n",
       "time                                                                                                                                                                                                                                                                                                                                                                                                                  1851-01-01  \\\n",
       "model     scenario region variable                    unit       du (meter) a (watt / delta_degree_Celsius ** 2 / meter ** 2) lambda0 (watt / delta_degree_Celsius / meter ** 2) dl (meter) climate_model                  efficacy (dimensionless) eta (watt / delta_degree_Celsius / meter ** 2) run_idx d1 (a) q1 (delta_degree_Celsius * meter ** 2 / watt) q2 (delta_degree_Celsius * meter ** 2 / watt) d2 (a)               \n",
       "idealised 1pctCO2  World  Effective Radiative Forcing W/m^2      50.0       0.0                                               1.333333                                           1200.0     two_layer                      1.0                      0.8                                            0       NaN    NaN                                           NaN                                           NaN       0.057143   \n",
       "                          Surface Temperature|Upper   delta_degC 50.0       0.0                                               1.333333                                           1200.0     two_layer                      1.0                      0.8                                            0       NaN    NaN                                           NaN                                           NaN       0.000000   \n",
       "                          Surface Temperature|Lower   delta_degC 50.0       0.0                                               1.333333                                           1200.0     two_layer                      1.0                      0.8                                            0       NaN    NaN                                           NaN                                           NaN       0.000000   \n",
       "                          Heat Uptake                 W/m^2      50.0       0.0                                               1.333333                                           1200.0     two_layer                      1.0                      0.8                                            0       NaN    NaN                                           NaN                                           NaN       0.000000   \n",
       "                          Effective Radiative Forcing W/m^2      NaN        NaN                                               NaN                                                NaN        two_timescale_impulse_response 1.0                      NaN                                            0       10.0   0.3                                           0.4                                           400.0     0.057143   \n",
       "\n",
       "time                                                                                                                                                                                                                                                                                                                                                                                                                  1852-01-01  \\\n",
       "model     scenario region variable                    unit       du (meter) a (watt / delta_degree_Celsius ** 2 / meter ** 2) lambda0 (watt / delta_degree_Celsius / meter ** 2) dl (meter) climate_model                  efficacy (dimensionless) eta (watt / delta_degree_Celsius / meter ** 2) run_idx d1 (a) q1 (delta_degree_Celsius * meter ** 2 / watt) q2 (delta_degree_Celsius * meter ** 2 / watt) d2 (a)               \n",
       "idealised 1pctCO2  World  Effective Radiative Forcing W/m^2      50.0       0.0                                               1.333333                                           1200.0     two_layer                      1.0                      0.8                                            0       NaN    NaN                                           NaN                                           NaN       0.114286   \n",
       "                          Surface Temperature|Upper   delta_degC 50.0       0.0                                               1.333333                                           1200.0     two_layer                      1.0                      0.8                                            0       NaN    NaN                                           NaN                                           NaN       0.008626   \n",
       "                          Surface Temperature|Lower   delta_degC 50.0       0.0                                               1.333333                                           1200.0     two_layer                      1.0                      0.8                                            0       NaN    NaN                                           NaN                                           NaN       0.000000   \n",
       "                          Heat Uptake                 W/m^2      50.0       0.0                                               1.333333                                           1200.0     two_layer                      1.0                      0.8                                            0       NaN    NaN                                           NaN                                           NaN       0.057143   \n",
       "                          Effective Radiative Forcing W/m^2      NaN        NaN                                               NaN                                                NaN        two_timescale_impulse_response 1.0                      NaN                                            0       10.0   0.3                                           0.4                                           400.0     0.114286   \n",
       "\n",
       "time                                                                                                                                                                                                                                                                                                                                                                                                                  1853-01-01  \\\n",
       "model     scenario region variable                    unit       du (meter) a (watt / delta_degree_Celsius ** 2 / meter ** 2) lambda0 (watt / delta_degree_Celsius / meter ** 2) dl (meter) climate_model                  efficacy (dimensionless) eta (watt / delta_degree_Celsius / meter ** 2) run_idx d1 (a) q1 (delta_degree_Celsius * meter ** 2 / watt) q2 (delta_degree_Celsius * meter ** 2 / watt) d2 (a)               \n",
       "idealised 1pctCO2  World  Effective Radiative Forcing W/m^2      50.0       0.0                                               1.333333                                           1200.0     two_layer                      1.0                      0.8                                            0       NaN    NaN                                           NaN                                           NaN       0.171429   \n",
       "                          Surface Temperature|Upper   delta_degC 50.0       0.0                                               1.333333                                           1200.0     two_layer                      1.0                      0.8                                            0       NaN    NaN                                           NaN                                           NaN       0.023100   \n",
       "                          Surface Temperature|Lower   delta_degC 50.0       0.0                                               1.333333                                           1200.0     two_layer                      1.0                      0.8                                            0       NaN    NaN                                           NaN                                           NaN       0.000043   \n",
       "                          Heat Uptake                 W/m^2      50.0       0.0                                               1.333333                                           1200.0     two_layer                      1.0                      0.8                                            0       NaN    NaN                                           NaN                                           NaN       0.102784   \n",
       "                          Effective Radiative Forcing W/m^2      NaN        NaN                                               NaN                                                NaN        two_timescale_impulse_response 1.0                      NaN                                            0       10.0   0.3                                           0.4                                           400.0     0.171429   \n",
       "\n",
       "time                                                                                                                                                                                                                                                                                                                                                                                                                  1854-01-01  \\\n",
       "model     scenario region variable                    unit       du (meter) a (watt / delta_degree_Celsius ** 2 / meter ** 2) lambda0 (watt / delta_degree_Celsius / meter ** 2) dl (meter) climate_model                  efficacy (dimensionless) eta (watt / delta_degree_Celsius / meter ** 2) run_idx d1 (a) q1 (delta_degree_Celsius * meter ** 2 / watt) q2 (delta_degree_Celsius * meter ** 2 / watt) d2 (a)               \n",
       "idealised 1pctCO2  World  Effective Radiative Forcing W/m^2      50.0       0.0                                               1.333333                                           1200.0     two_layer                      1.0                      0.8                                            0       NaN    NaN                                           NaN                                           NaN       0.228571   \n",
       "                          Surface Temperature|Upper   delta_degC 50.0       0.0                                               1.333333                                           1200.0     two_layer                      1.0                      0.8                                            0       NaN    NaN                                           NaN                                           NaN       0.041545   \n",
       "                          Surface Temperature|Lower   delta_degC 50.0       0.0                                               1.333333                                           1200.0     two_layer                      1.0                      0.8                                            0       NaN    NaN                                           NaN                                           NaN       0.000159   \n",
       "                          Heat Uptake                 W/m^2      50.0       0.0                                               1.333333                                           1200.0     two_layer                      1.0                      0.8                                            0       NaN    NaN                                           NaN                                           NaN       0.140628   \n",
       "                          Effective Radiative Forcing W/m^2      NaN        NaN                                               NaN                                                NaN        two_timescale_impulse_response 1.0                      NaN                                            0       10.0   0.3                                           0.4                                           400.0     0.228571   \n",
       "\n",
       "time                                                                                                                                                                                                                                                                                                                                                                                                                  1855-01-01  \\\n",
       "model     scenario region variable                    unit       du (meter) a (watt / delta_degree_Celsius ** 2 / meter ** 2) lambda0 (watt / delta_degree_Celsius / meter ** 2) dl (meter) climate_model                  efficacy (dimensionless) eta (watt / delta_degree_Celsius / meter ** 2) run_idx d1 (a) q1 (delta_degree_Celsius * meter ** 2 / watt) q2 (delta_degree_Celsius * meter ** 2 / watt) d2 (a)               \n",
       "idealised 1pctCO2  World  Effective Radiative Forcing W/m^2      50.0       0.0                                               1.333333                                           1200.0     two_layer                      1.0                      0.8                                            0       NaN    NaN                                           NaN                                           NaN       0.285714   \n",
       "                          Surface Temperature|Upper   delta_degC 50.0       0.0                                               1.333333                                           1200.0     two_layer                      1.0                      0.8                                            0       NaN    NaN                                           NaN                                           NaN       0.062689   \n",
       "                          Surface Temperature|Lower   delta_degC 50.0       0.0                                               1.333333                                           1200.0     two_layer                      1.0                      0.8                                            0       NaN    NaN                                           NaN                                           NaN       0.000368   \n",
       "                          Heat Uptake                 W/m^2      50.0       0.0                                               1.333333                                           1200.0     two_layer                      1.0                      0.8                                            0       NaN    NaN                                           NaN                                           NaN       0.173178   \n",
       "                          Effective Radiative Forcing W/m^2      NaN        NaN                                               NaN                                                NaN        two_timescale_impulse_response 1.0                      NaN                                            0       10.0   0.3                                           0.4                                           400.0     0.285714   \n",
       "\n",
       "time                                                                                                                                                                                                                                                                                                                                                                                                                  1856-01-01  \\\n",
       "model     scenario region variable                    unit       du (meter) a (watt / delta_degree_Celsius ** 2 / meter ** 2) lambda0 (watt / delta_degree_Celsius / meter ** 2) dl (meter) climate_model                  efficacy (dimensionless) eta (watt / delta_degree_Celsius / meter ** 2) run_idx d1 (a) q1 (delta_degree_Celsius * meter ** 2 / watt) q2 (delta_degree_Celsius * meter ** 2 / watt) d2 (a)               \n",
       "idealised 1pctCO2  World  Effective Radiative Forcing W/m^2      50.0       0.0                                               1.333333                                           1200.0     two_layer                      1.0                      0.8                                            0       NaN    NaN                                           NaN                                           NaN       0.342857   \n",
       "                          Surface Temperature|Upper   delta_degC 50.0       0.0                                               1.333333                                           1200.0     two_layer                      1.0                      0.8                                            0       NaN    NaN                                           NaN                                           NaN       0.085676   \n",
       "                          Surface Temperature|Lower   delta_degC 50.0       0.0                                               1.333333                                           1200.0     two_layer                      1.0                      0.8                                            0       NaN    NaN                                           NaN                                           NaN       0.000681   \n",
       "                          Heat Uptake                 W/m^2      50.0       0.0                                               1.333333                                           1200.0     two_layer                      1.0                      0.8                                            0       NaN    NaN                                           NaN                                           NaN       0.202129   \n",
       "                          Effective Radiative Forcing W/m^2      NaN        NaN                                               NaN                                                NaN        two_timescale_impulse_response 1.0                      NaN                                            0       10.0   0.3                                           0.4                                           400.0     0.342857   \n",
       "\n",
       "time                                                                                                                                                                                                                                                                                                                                                                                                                  1857-01-01  \\\n",
       "model     scenario region variable                    unit       du (meter) a (watt / delta_degree_Celsius ** 2 / meter ** 2) lambda0 (watt / delta_degree_Celsius / meter ** 2) dl (meter) climate_model                  efficacy (dimensionless) eta (watt / delta_degree_Celsius / meter ** 2) run_idx d1 (a) q1 (delta_degree_Celsius * meter ** 2 / watt) q2 (delta_degree_Celsius * meter ** 2 / watt) d2 (a)               \n",
       "idealised 1pctCO2  World  Effective Radiative Forcing W/m^2      50.0       0.0                                               1.333333                                           1200.0     two_layer                      1.0                      0.8                                            0       NaN    NaN                                           NaN                                           NaN       0.400000   \n",
       "                          Surface Temperature|Upper   delta_degC 50.0       0.0                                               1.333333                                           1200.0     two_layer                      1.0                      0.8                                            0       NaN    NaN                                           NaN                                           NaN       0.109924   \n",
       "                          Surface Temperature|Lower   delta_degC 50.0       0.0                                               1.333333                                           1200.0     two_layer                      1.0                      0.8                                            0       NaN    NaN                                           NaN                                           NaN       0.001109   \n",
       "                          Heat Uptake                 W/m^2      50.0       0.0                                               1.333333                                           1200.0     two_layer                      1.0                      0.8                                            0       NaN    NaN                                           NaN                                           NaN       0.228623   \n",
       "                          Effective Radiative Forcing W/m^2      NaN        NaN                                               NaN                                                NaN        two_timescale_impulse_response 1.0                      NaN                                            0       10.0   0.3                                           0.4                                           400.0     0.400000   \n",
       "\n",
       "time                                                                                                                                                                                                                                                                                                                                                                                                                  1858-01-01  \\\n",
       "model     scenario region variable                    unit       du (meter) a (watt / delta_degree_Celsius ** 2 / meter ** 2) lambda0 (watt / delta_degree_Celsius / meter ** 2) dl (meter) climate_model                  efficacy (dimensionless) eta (watt / delta_degree_Celsius / meter ** 2) run_idx d1 (a) q1 (delta_degree_Celsius * meter ** 2 / watt) q2 (delta_degree_Celsius * meter ** 2 / watt) d2 (a)               \n",
       "idealised 1pctCO2  World  Effective Radiative Forcing W/m^2      50.0       0.0                                               1.333333                                           1200.0     two_layer                      1.0                      0.8                                            0       NaN    NaN                                           NaN                                           NaN       0.457143   \n",
       "                          Surface Temperature|Upper   delta_degC 50.0       0.0                                               1.333333                                           1200.0     two_layer                      1.0                      0.8                                            0       NaN    NaN                                           NaN                                           NaN       0.135040   \n",
       "                          Surface Temperature|Lower   delta_degC 50.0       0.0                                               1.333333                                           1200.0     two_layer                      1.0                      0.8                                            0       NaN    NaN                                           NaN                                           NaN       0.001656   \n",
       "                          Heat Uptake                 W/m^2      50.0       0.0                                               1.333333                                           1200.0     two_layer                      1.0                      0.8                                            0       NaN    NaN                                           NaN                                           NaN       0.253435   \n",
       "                          Effective Radiative Forcing W/m^2      NaN        NaN                                               NaN                                                NaN        two_timescale_impulse_response 1.0                      NaN                                            0       10.0   0.3                                           0.4                                           400.0     0.457143   \n",
       "\n",
       "time                                                                                                                                                                                                                                                                                                                                                                                                                  1859-01-01  \\\n",
       "model     scenario region variable                    unit       du (meter) a (watt / delta_degree_Celsius ** 2 / meter ** 2) lambda0 (watt / delta_degree_Celsius / meter ** 2) dl (meter) climate_model                  efficacy (dimensionless) eta (watt / delta_degree_Celsius / meter ** 2) run_idx d1 (a) q1 (delta_degree_Celsius * meter ** 2 / watt) q2 (delta_degree_Celsius * meter ** 2 / watt) d2 (a)               \n",
       "idealised 1pctCO2  World  Effective Radiative Forcing W/m^2      50.0       0.0                                               1.333333                                           1200.0     two_layer                      1.0                      0.8                                            0       NaN    NaN                                           NaN                                           NaN       0.514286   \n",
       "                          Surface Temperature|Upper   delta_degC 50.0       0.0                                               1.333333                                           1200.0     two_layer                      1.0                      0.8                                            0       NaN    NaN                                           NaN                                           NaN       0.160761   \n",
       "                          Surface Temperature|Lower   delta_degC 50.0       0.0                                               1.333333                                           1200.0     two_layer                      1.0                      0.8                                            0       NaN    NaN                                           NaN                                           NaN       0.002328   \n",
       "                          Heat Uptake                 W/m^2      50.0       0.0                                               1.333333                                           1200.0     two_layer                      1.0                      0.8                                            0       NaN    NaN                                           NaN                                           NaN       0.277089   \n",
       "                          Effective Radiative Forcing W/m^2      NaN        NaN                                               NaN                                                NaN        two_timescale_impulse_response 1.0                      NaN                                            0       10.0   0.3                                           0.4                                           400.0     0.514286   \n",
       "\n",
       "time                                                                                                                                                                                                                                                                                                                                                                                                                  ...  \\\n",
       "model     scenario region variable                    unit       du (meter) a (watt / delta_degree_Celsius ** 2 / meter ** 2) lambda0 (watt / delta_degree_Celsius / meter ** 2) dl (meter) climate_model                  efficacy (dimensionless) eta (watt / delta_degree_Celsius / meter ** 2) run_idx d1 (a) q1 (delta_degree_Celsius * meter ** 2 / watt) q2 (delta_degree_Celsius * meter ** 2 / watt) d2 (a)  ...   \n",
       "idealised 1pctCO2  World  Effective Radiative Forcing W/m^2      50.0       0.0                                               1.333333                                           1200.0     two_layer                      1.0                      0.8                                            0       NaN    NaN                                           NaN                                           NaN     ...   \n",
       "                          Surface Temperature|Upper   delta_degC 50.0       0.0                                               1.333333                                           1200.0     two_layer                      1.0                      0.8                                            0       NaN    NaN                                           NaN                                           NaN     ...   \n",
       "                          Surface Temperature|Lower   delta_degC 50.0       0.0                                               1.333333                                           1200.0     two_layer                      1.0                      0.8                                            0       NaN    NaN                                           NaN                                           NaN     ...   \n",
       "                          Heat Uptake                 W/m^2      50.0       0.0                                               1.333333                                           1200.0     two_layer                      1.0                      0.8                                            0       NaN    NaN                                           NaN                                           NaN     ...   \n",
       "                          Effective Radiative Forcing W/m^2      NaN        NaN                                               NaN                                                NaN        two_timescale_impulse_response 1.0                      NaN                                            0       10.0   0.3                                           0.4                                           400.0   ...   \n",
       "\n",
       "time                                                                                                                                                                                                                                                                                                                                                                                                                  2040-01-01  \\\n",
       "model     scenario region variable                    unit       du (meter) a (watt / delta_degree_Celsius ** 2 / meter ** 2) lambda0 (watt / delta_degree_Celsius / meter ** 2) dl (meter) climate_model                  efficacy (dimensionless) eta (watt / delta_degree_Celsius / meter ** 2) run_idx d1 (a) q1 (delta_degree_Celsius * meter ** 2 / watt) q2 (delta_degree_Celsius * meter ** 2 / watt) d2 (a)               \n",
       "idealised 1pctCO2  World  Effective Radiative Forcing W/m^2      50.0       0.0                                               1.333333                                           1200.0     two_layer                      1.0                      0.8                                            0       NaN    NaN                                           NaN                                           NaN      10.857143   \n",
       "                          Surface Temperature|Upper   delta_degC 50.0       0.0                                               1.333333                                           1200.0     two_layer                      1.0                      0.8                                            0       NaN    NaN                                           NaN                                           NaN       5.710809   \n",
       "                          Surface Temperature|Lower   delta_degC 50.0       0.0                                               1.333333                                           1200.0     two_layer                      1.0                      0.8                                            0       NaN    NaN                                           NaN                                           NaN       1.937427   \n",
       "                          Heat Uptake                 W/m^2      50.0       0.0                                               1.333333                                           1200.0     two_layer                      1.0                      0.8                                            0       NaN    NaN                                           NaN                                           NaN       3.230641   \n",
       "                          Effective Radiative Forcing W/m^2      NaN        NaN                                               NaN                                                NaN        two_timescale_impulse_response 1.0                      NaN                                            0       10.0   0.3                                           0.4                                           400.0    10.857143   \n",
       "\n",
       "time                                                                                                                                                                                                                                                                                                                                                                                                                  2041-01-01  \\\n",
       "model     scenario region variable                    unit       du (meter) a (watt / delta_degree_Celsius ** 2 / meter ** 2) lambda0 (watt / delta_degree_Celsius / meter ** 2) dl (meter) climate_model                  efficacy (dimensionless) eta (watt / delta_degree_Celsius / meter ** 2) run_idx d1 (a) q1 (delta_degree_Celsius * meter ** 2 / watt) q2 (delta_degree_Celsius * meter ** 2 / watt) d2 (a)               \n",
       "idealised 1pctCO2  World  Effective Radiative Forcing W/m^2      50.0       0.0                                               1.333333                                           1200.0     two_layer                      1.0                      0.8                                            0       NaN    NaN                                           NaN                                           NaN      10.914286   \n",
       "                          Surface Temperature|Upper   delta_degC 50.0       0.0                                               1.333333                                           1200.0     two_layer                      1.0                      0.8                                            0       NaN    NaN                                           NaN                                           NaN       5.744627   \n",
       "                          Surface Temperature|Lower   delta_degC 50.0       0.0                                               1.333333                                           1200.0     two_layer                      1.0                      0.8                                            0       NaN    NaN                                           NaN                                           NaN       1.956414   \n",
       "                          Heat Uptake                 W/m^2      50.0       0.0                                               1.333333                                           1200.0     two_layer                      1.0                      0.8                                            0       NaN    NaN                                           NaN                                           NaN       3.242731   \n",
       "                          Effective Radiative Forcing W/m^2      NaN        NaN                                               NaN                                                NaN        two_timescale_impulse_response 1.0                      NaN                                            0       10.0   0.3                                           0.4                                           400.0    10.914286   \n",
       "\n",
       "time                                                                                                                                                                                                                                                                                                                                                                                                                  2042-01-01  \\\n",
       "model     scenario region variable                    unit       du (meter) a (watt / delta_degree_Celsius ** 2 / meter ** 2) lambda0 (watt / delta_degree_Celsius / meter ** 2) dl (meter) climate_model                  efficacy (dimensionless) eta (watt / delta_degree_Celsius / meter ** 2) run_idx d1 (a) q1 (delta_degree_Celsius * meter ** 2 / watt) q2 (delta_degree_Celsius * meter ** 2 / watt) d2 (a)               \n",
       "idealised 1pctCO2  World  Effective Radiative Forcing W/m^2      50.0       0.0                                               1.333333                                           1200.0     two_layer                      1.0                      0.8                                            0       NaN    NaN                                           NaN                                           NaN      10.971429   \n",
       "                          Surface Temperature|Upper   delta_degC 50.0       0.0                                               1.333333                                           1200.0     two_layer                      1.0                      0.8                                            0       NaN    NaN                                           NaN                                           NaN       5.778474   \n",
       "                          Surface Temperature|Lower   delta_degC 50.0       0.0                                               1.333333                                           1200.0     two_layer                      1.0                      0.8                                            0       NaN    NaN                                           NaN                                           NaN       1.975476   \n",
       "                          Heat Uptake                 W/m^2      50.0       0.0                                               1.333333                                           1200.0     two_layer                      1.0                      0.8                                            0       NaN    NaN                                           NaN                                           NaN       3.254783   \n",
       "                          Effective Radiative Forcing W/m^2      NaN        NaN                                               NaN                                                NaN        two_timescale_impulse_response 1.0                      NaN                                            0       10.0   0.3                                           0.4                                           400.0    10.971429   \n",
       "\n",
       "time                                                                                                                                                                                                                                                                                                                                                                                                                  2043-01-01  \\\n",
       "model     scenario region variable                    unit       du (meter) a (watt / delta_degree_Celsius ** 2 / meter ** 2) lambda0 (watt / delta_degree_Celsius / meter ** 2) dl (meter) climate_model                  efficacy (dimensionless) eta (watt / delta_degree_Celsius / meter ** 2) run_idx d1 (a) q1 (delta_degree_Celsius * meter ** 2 / watt) q2 (delta_degree_Celsius * meter ** 2 / watt) d2 (a)               \n",
       "idealised 1pctCO2  World  Effective Radiative Forcing W/m^2      50.0       0.0                                               1.333333                                           1200.0     two_layer                      1.0                      0.8                                            0       NaN    NaN                                           NaN                                           NaN      11.028571   \n",
       "                          Surface Temperature|Upper   delta_degC 50.0       0.0                                               1.333333                                           1200.0     two_layer                      1.0                      0.8                                            0       NaN    NaN                                           NaN                                           NaN       5.812348   \n",
       "                          Surface Temperature|Lower   delta_degC 50.0       0.0                                               1.333333                                           1200.0     two_layer                      1.0                      0.8                                            0       NaN    NaN                                           NaN                                           NaN       1.994612   \n",
       "                          Heat Uptake                 W/m^2      50.0       0.0                                               1.333333                                           1200.0     two_layer                      1.0                      0.8                                            0       NaN    NaN                                           NaN                                           NaN       3.266797   \n",
       "                          Effective Radiative Forcing W/m^2      NaN        NaN                                               NaN                                                NaN        two_timescale_impulse_response 1.0                      NaN                                            0       10.0   0.3                                           0.4                                           400.0    11.028571   \n",
       "\n",
       "time                                                                                                                                                                                                                                                                                                                                                                                                                  2044-01-01  \\\n",
       "model     scenario region variable                    unit       du (meter) a (watt / delta_degree_Celsius ** 2 / meter ** 2) lambda0 (watt / delta_degree_Celsius / meter ** 2) dl (meter) climate_model                  efficacy (dimensionless) eta (watt / delta_degree_Celsius / meter ** 2) run_idx d1 (a) q1 (delta_degree_Celsius * meter ** 2 / watt) q2 (delta_degree_Celsius * meter ** 2 / watt) d2 (a)               \n",
       "idealised 1pctCO2  World  Effective Radiative Forcing W/m^2      50.0       0.0                                               1.333333                                           1200.0     two_layer                      1.0                      0.8                                            0       NaN    NaN                                           NaN                                           NaN      11.085714   \n",
       "                          Surface Temperature|Upper   delta_degC 50.0       0.0                                               1.333333                                           1200.0     two_layer                      1.0                      0.8                                            0       NaN    NaN                                           NaN                                           NaN       5.846251   \n",
       "                          Surface Temperature|Lower   delta_degC 50.0       0.0                                               1.333333                                           1200.0     two_layer                      1.0                      0.8                                            0       NaN    NaN                                           NaN                                           NaN       2.013823   \n",
       "                          Heat Uptake                 W/m^2      50.0       0.0                                               1.333333                                           1200.0     two_layer                      1.0                      0.8                                            0       NaN    NaN                                           NaN                                           NaN       3.278774   \n",
       "                          Effective Radiative Forcing W/m^2      NaN        NaN                                               NaN                                                NaN        two_timescale_impulse_response 1.0                      NaN                                            0       10.0   0.3                                           0.4                                           400.0    11.085714   \n",
       "\n",
       "time                                                                                                                                                                                                                                                                                                                                                                                                                  2045-01-01  \\\n",
       "model     scenario region variable                    unit       du (meter) a (watt / delta_degree_Celsius ** 2 / meter ** 2) lambda0 (watt / delta_degree_Celsius / meter ** 2) dl (meter) climate_model                  efficacy (dimensionless) eta (watt / delta_degree_Celsius / meter ** 2) run_idx d1 (a) q1 (delta_degree_Celsius * meter ** 2 / watt) q2 (delta_degree_Celsius * meter ** 2 / watt) d2 (a)               \n",
       "idealised 1pctCO2  World  Effective Radiative Forcing W/m^2      50.0       0.0                                               1.333333                                           1200.0     two_layer                      1.0                      0.8                                            0       NaN    NaN                                           NaN                                           NaN      11.142857   \n",
       "                          Surface Temperature|Upper   delta_degC 50.0       0.0                                               1.333333                                           1200.0     two_layer                      1.0                      0.8                                            0       NaN    NaN                                           NaN                                           NaN       5.880182   \n",
       "                          Surface Temperature|Lower   delta_degC 50.0       0.0                                               1.333333                                           1200.0     two_layer                      1.0                      0.8                                            0       NaN    NaN                                           NaN                                           NaN       2.033107   \n",
       "                          Heat Uptake                 W/m^2      50.0       0.0                                               1.333333                                           1200.0     two_layer                      1.0                      0.8                                            0       NaN    NaN                                           NaN                                           NaN       3.290713   \n",
       "                          Effective Radiative Forcing W/m^2      NaN        NaN                                               NaN                                                NaN        two_timescale_impulse_response 1.0                      NaN                                            0       10.0   0.3                                           0.4                                           400.0    11.142857   \n",
       "\n",
       "time                                                                                                                                                                                                                                                                                                                                                                                                                  2046-01-01  \\\n",
       "model     scenario region variable                    unit       du (meter) a (watt / delta_degree_Celsius ** 2 / meter ** 2) lambda0 (watt / delta_degree_Celsius / meter ** 2) dl (meter) climate_model                  efficacy (dimensionless) eta (watt / delta_degree_Celsius / meter ** 2) run_idx d1 (a) q1 (delta_degree_Celsius * meter ** 2 / watt) q2 (delta_degree_Celsius * meter ** 2 / watt) d2 (a)               \n",
       "idealised 1pctCO2  World  Effective Radiative Forcing W/m^2      50.0       0.0                                               1.333333                                           1200.0     two_layer                      1.0                      0.8                                            0       NaN    NaN                                           NaN                                           NaN      11.200000   \n",
       "                          Surface Temperature|Upper   delta_degC 50.0       0.0                                               1.333333                                           1200.0     two_layer                      1.0                      0.8                                            0       NaN    NaN                                           NaN                                           NaN       5.914140   \n",
       "                          Surface Temperature|Lower   delta_degC 50.0       0.0                                               1.333333                                           1200.0     two_layer                      1.0                      0.8                                            0       NaN    NaN                                           NaN                                           NaN       2.052465   \n",
       "                          Heat Uptake                 W/m^2      50.0       0.0                                               1.333333                                           1200.0     two_layer                      1.0                      0.8                                            0       NaN    NaN                                           NaN                                           NaN       3.302615   \n",
       "                          Effective Radiative Forcing W/m^2      NaN        NaN                                               NaN                                                NaN        two_timescale_impulse_response 1.0                      NaN                                            0       10.0   0.3                                           0.4                                           400.0    11.200000   \n",
       "\n",
       "time                                                                                                                                                                                                                                                                                                                                                                                                                  2047-01-01  \\\n",
       "model     scenario region variable                    unit       du (meter) a (watt / delta_degree_Celsius ** 2 / meter ** 2) lambda0 (watt / delta_degree_Celsius / meter ** 2) dl (meter) climate_model                  efficacy (dimensionless) eta (watt / delta_degree_Celsius / meter ** 2) run_idx d1 (a) q1 (delta_degree_Celsius * meter ** 2 / watt) q2 (delta_degree_Celsius * meter ** 2 / watt) d2 (a)               \n",
       "idealised 1pctCO2  World  Effective Radiative Forcing W/m^2      50.0       0.0                                               1.333333                                           1200.0     two_layer                      1.0                      0.8                                            0       NaN    NaN                                           NaN                                           NaN      11.257143   \n",
       "                          Surface Temperature|Upper   delta_degC 50.0       0.0                                               1.333333                                           1200.0     two_layer                      1.0                      0.8                                            0       NaN    NaN                                           NaN                                           NaN       5.948127   \n",
       "                          Surface Temperature|Lower   delta_degC 50.0       0.0                                               1.333333                                           1200.0     two_layer                      1.0                      0.8                                            0       NaN    NaN                                           NaN                                           NaN       2.071897   \n",
       "                          Heat Uptake                 W/m^2      50.0       0.0                                               1.333333                                           1200.0     two_layer                      1.0                      0.8                                            0       NaN    NaN                                           NaN                                           NaN       3.314480   \n",
       "                          Effective Radiative Forcing W/m^2      NaN        NaN                                               NaN                                                NaN        two_timescale_impulse_response 1.0                      NaN                                            0       10.0   0.3                                           0.4                                           400.0    11.257143   \n",
       "\n",
       "time                                                                                                                                                                                                                                                                                                                                                                                                                  2048-01-01  \\\n",
       "model     scenario region variable                    unit       du (meter) a (watt / delta_degree_Celsius ** 2 / meter ** 2) lambda0 (watt / delta_degree_Celsius / meter ** 2) dl (meter) climate_model                  efficacy (dimensionless) eta (watt / delta_degree_Celsius / meter ** 2) run_idx d1 (a) q1 (delta_degree_Celsius * meter ** 2 / watt) q2 (delta_degree_Celsius * meter ** 2 / watt) d2 (a)               \n",
       "idealised 1pctCO2  World  Effective Radiative Forcing W/m^2      50.0       0.0                                               1.333333                                           1200.0     two_layer                      1.0                      0.8                                            0       NaN    NaN                                           NaN                                           NaN      11.314286   \n",
       "                          Surface Temperature|Upper   delta_degC 50.0       0.0                                               1.333333                                           1200.0     two_layer                      1.0                      0.8                                            0       NaN    NaN                                           NaN                                           NaN       5.982141   \n",
       "                          Surface Temperature|Lower   delta_degC 50.0       0.0                                               1.333333                                           1200.0     two_layer                      1.0                      0.8                                            0       NaN    NaN                                           NaN                                           NaN       2.091402   \n",
       "                          Heat Uptake                 W/m^2      50.0       0.0                                               1.333333                                           1200.0     two_layer                      1.0                      0.8                                            0       NaN    NaN                                           NaN                                           NaN       3.326307   \n",
       "                          Effective Radiative Forcing W/m^2      NaN        NaN                                               NaN                                                NaN        two_timescale_impulse_response 1.0                      NaN                                            0       10.0   0.3                                           0.4                                           400.0    11.314286   \n",
       "\n",
       "time                                                                                                                                                                                                                                                                                                                                                                                                                  2049-01-01  \n",
       "model     scenario region variable                    unit       du (meter) a (watt / delta_degree_Celsius ** 2 / meter ** 2) lambda0 (watt / delta_degree_Celsius / meter ** 2) dl (meter) climate_model                  efficacy (dimensionless) eta (watt / delta_degree_Celsius / meter ** 2) run_idx d1 (a) q1 (delta_degree_Celsius * meter ** 2 / watt) q2 (delta_degree_Celsius * meter ** 2 / watt) d2 (a)              \n",
       "idealised 1pctCO2  World  Effective Radiative Forcing W/m^2      50.0       0.0                                               1.333333                                           1200.0     two_layer                      1.0                      0.8                                            0       NaN    NaN                                           NaN                                           NaN      11.371429  \n",
       "                          Surface Temperature|Upper   delta_degC 50.0       0.0                                               1.333333                                           1200.0     two_layer                      1.0                      0.8                                            0       NaN    NaN                                           NaN                                           NaN       6.016183  \n",
       "                          Surface Temperature|Lower   delta_degC 50.0       0.0                                               1.333333                                           1200.0     two_layer                      1.0                      0.8                                            0       NaN    NaN                                           NaN                                           NaN       2.110980  \n",
       "                          Heat Uptake                 W/m^2      50.0       0.0                                               1.333333                                           1200.0     two_layer                      1.0                      0.8                                            0       NaN    NaN                                           NaN                                           NaN       3.338098  \n",
       "                          Effective Radiative Forcing W/m^2      NaN        NaN                                               NaN                                                NaN        two_timescale_impulse_response 1.0                      NaN                                            0       10.0   0.3                                           0.4                                           400.0    11.371429  \n",
       "\n",
       "[5 rows x 200 columns]"
      ]
     },
     "execution_count": 7,
     "metadata": {},
     "output_type": "execute_result"
    }
   ],
   "source": [
    "# NBVAL_IGNORE_OUTPUT\n",
    "two_layer = TwoLayerModel(lambda0=4 / 3 * unit_registry(\"W/m^2/delta_degC\"))\n",
    "res_two_layer = two_layer.run_scenarios(driver)\n",
    "\n",
    "impulse_response = ImpulseResponseModel(d1=10 * unit_registry(\"yr\"))\n",
    "res_impulse_response = impulse_response.run_scenarios(driver)\n",
    "\n",
    "res = res_two_layer.append(res_impulse_response)\n",
    "res.head()"
   ]
  },
  {
   "cell_type": "markdown",
   "metadata": {},
   "source": [
    "Now we can plot our outputs and compare (of course, we can make these two models the same if we're clever about how we set the parameters, see the impulse response equivalence notebook)."
   ]
  },
  {
   "cell_type": "code",
   "execution_count": 8,
   "metadata": {},
   "outputs": [
    {
     "data": {
      "text/plain": [
       "<matplotlib.axes._subplots.AxesSubplot at 0x12d608510>"
      ]
     },
     "execution_count": 8,
     "metadata": {},
     "output_type": "execute_result"
    },
    {
     "data": {
      "image/png": "[encoded data removed]",
      "text/plain": [
       "<Figure size 432x288 with 1 Axes>"
      ]
     },
     "metadata": {
      "needs_background": "light"
     },
     "output_type": "display_data"
    }
   ],
   "source": [
    "# NBVAL_IGNORE_OUTPUT\n",
    "res.filter(variable=\"Surface Temperature*\").lineplot(hue=\"climate_model\", style=\"variable\")"
   ]
  },
  {
   "cell_type": "code",
   "execution_count": 9,
   "metadata": {},
   "outputs": [
    {
     "data": {
      "text/plain": [
       "<matplotlib.axes._subplots.AxesSubplot at 0x12d8846d0>"
      ]
     },
     "execution_count": 9,
     "metadata": {},
     "output_type": "execute_result"
    },
    {
     "data": {
      "image/png": "[encoded data removed]",
      "text/plain": [
       "<Figure size 432x288 with 1 Axes>"
      ]
     },
     "metadata": {
      "needs_background": "light"
     },
     "output_type": "display_data"
    }
   ],
   "source": [
    "# NBVAL_IGNORE_OUTPUT\n",
    "res.filter(variable=\"Heat*\").lineplot(hue=\"climate_model\", style=\"variable\")"
   ]
  }
 ],
 "metadata": {
  "kernelspec": {
   "display_name": "Python 3",
   "language": "python",
   "name": "python3"
  },
  "language_info": {
   "codemirror_mode": {
    "name": "ipython",
    "version": 3
   },
   "file_extension": ".py",
   "mimetype": "text/x-python",
   "name": "python",
   "nbconvert_exporter": "python",
   "pygments_lexer": "ipython3",
   "version": "3.7.4"
  }
 },
 "nbformat": 4,
 "nbformat_minor": 4
}
